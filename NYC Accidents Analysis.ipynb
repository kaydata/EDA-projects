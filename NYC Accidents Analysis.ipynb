{
 "cells": [
  {
   "cell_type": "markdown",
   "id": "38253a65",
   "metadata": {},
   "source": [
    "# Analysis of NYC Traffic Accidents"
   ]
  },
  {
   "cell_type": "markdown",
   "id": "cab72df7",
   "metadata": {},
   "source": [
    "Motor vehicle collisions reported by the New York City Police Department from January-August 2020. Each record represents an individual collision, including the date, time and location of the accident (borough, zip code, street name, latitude/longitude), vehicles and victims involved, and contributing factors."
   ]
  },
  {
   "cell_type": "markdown",
   "id": "95da2c3f",
   "metadata": {},
   "source": [
    "by: Kenneth Muriuki Kimathi\n",
    "\n",
    "    email: muriukikim0@gmail.com"
   ]
  },
  {
   "cell_type": "markdown",
   "id": "92ddf9d9",
   "metadata": {},
   "source": [
    "[Linkedin](https://www.linkedin.com/in/kenneth-k-29b2157a/)"
   ]
  },
  {
   "cell_type": "markdown",
   "id": "a2ffee03",
   "metadata": {},
   "source": [
    "## Introduction"
   ]
  },
  {
   "cell_type": "markdown",
   "id": "b7b0d538",
   "metadata": {},
   "source": [
    "The objective of this analysis is to gain insights from the NYC Traffic Accidents dataset, which consists of motor vehicle collisions reported by the New York City Police Department from January to August 2020. This dataset provides comprehensive details about each collision, including the date, time, location, vehicles involved, victims, and contributing factors.\n",
    "\n",
    "In this analysis, I will explore the dataset to uncover valuable information about the nature of these accidents and identify any underlying patterns or trends. By examining various aspects of the data, I aim to address the following objectives:\n",
    "\n",
    "1. Seasonal Patterns: I will examine the percentage of total accidents by month to determine if there are any seasonal patterns. This analysis will help me understand if there are specific months when accidents are more frequent, potentially highlighting factors contributing to increased accident rates during certain periods.\n",
    "\n",
    "2. Time and Day Analysis: I will break down the accident frequency by the day of the week and hour of the day. By doing so, I can pinpoint the time periods when accidents occur most frequently. This information will provide valuable insights into the timing and patterns of accidents, assisting in the development of targeted strategies for accident prevention.\n",
    "\n",
    "3. Street Analysis: I will identify the street with the highest number of reported accidents and calculate the percentage of accidents it represents compared to the total reported accidents. This analysis will shed light on the most accident-prone areas in New York City, allowing for a better understanding of localized risk factors and potential areas for improvement.\n",
    "\n",
    "4. Contributing Factors: I will determine the most common contributing factor for accidents reported in the dataset, focusing specifically on Vehicle 1. Additionally, I will investigate the most common contributing factor for fatal accidents. This analysis will enable me to identify the key factors associated with accidents and fatal outcomes, providing valuable insights for targeted interventions and road safety initiatives.\n",
    "\n",
    "By conducting these analyses, I aim to uncover meaningful patterns and correlations in the data, allowing for a comprehensive understanding of motor vehicle collisions in New York City. The insights gained will be valuable for policymakers, city planners, and other stakeholders in their efforts to improve road safety and reduce the number of accidents on the streets of New York City."
   ]
  },
  {
   "cell_type": "markdown",
   "id": "0a270929",
   "metadata": {},
   "source": [
    "## Import Dependencies"
   ]
  },
  {
   "cell_type": "code",
   "execution_count": 6,
   "id": "bfe7c9cf",
   "metadata": {},
   "outputs": [
    {
     "name": "stdout",
     "output_type": "stream",
     "text": [
      "Requirement already satisfied: Pyppeteer in c:\\users\\kenne\\anaconda3\\lib\\site-packages (1.0.2)\n",
      "Requirement already satisfied: urllib3<2.0.0,>=1.25.8 in c:\\users\\kenne\\anaconda3\\lib\\site-packages (from Pyppeteer) (1.26.14)\n",
      "Requirement already satisfied: certifi>=2021 in c:\\users\\kenne\\anaconda3\\lib\\site-packages (from Pyppeteer) (2023.5.7)\n",
      "Requirement already satisfied: importlib-metadata>=1.4 in c:\\users\\kenne\\anaconda3\\lib\\site-packages (from Pyppeteer) (4.11.3)\n",
      "Requirement already satisfied: appdirs<2.0.0,>=1.4.3 in c:\\users\\kenne\\anaconda3\\lib\\site-packages (from Pyppeteer) (1.4.4)\n",
      "Requirement already satisfied: websockets<11.0,>=10.0 in c:\\users\\kenne\\anaconda3\\lib\\site-packages (from Pyppeteer) (10.4)\n",
      "Requirement already satisfied: pyee<9.0.0,>=8.1.0 in c:\\users\\kenne\\anaconda3\\lib\\site-packages (from Pyppeteer) (8.2.2)\n",
      "Requirement already satisfied: tqdm<5.0.0,>=4.42.1 in c:\\users\\kenne\\anaconda3\\lib\\site-packages (from Pyppeteer) (4.64.1)\n",
      "Requirement already satisfied: zipp>=0.5 in c:\\users\\kenne\\anaconda3\\lib\\site-packages (from importlib-metadata>=1.4->Pyppeteer) (3.11.0)\n",
      "Requirement already satisfied: colorama in c:\\users\\kenne\\anaconda3\\lib\\site-packages (from tqdm<5.0.0,>=4.42.1->Pyppeteer) (0.4.6)\n"
     ]
    },
    {
     "name": "stderr",
     "output_type": "stream",
     "text": [
      "chromium is already installed.\n"
     ]
    }
   ],
   "source": [
    "import pandas as pd\n",
    "import sqlite3 as sql\n",
    "%matplotlib inline\n",
    "import matplotlib.pyplot as plt\n",
    "!pip install Pyppeteer\n",
    "!pyppeteer-install"
   ]
  },
  {
   "cell_type": "code",
   "execution_count": 7,
   "id": "b18359b7",
   "metadata": {},
   "outputs": [],
   "source": [
    "df = pd.read_csv('./Documents/NYC Accidents 2020.csv')"
   ]
  },
  {
   "cell_type": "code",
   "execution_count": 8,
   "id": "9d1e7b10",
   "metadata": {
    "scrolled": true
   },
   "outputs": [
    {
     "data": {
      "text/html": [
       "<div>\n",
       "<style scoped>\n",
       "    .dataframe tbody tr th:only-of-type {\n",
       "        vertical-align: middle;\n",
       "    }\n",
       "\n",
       "    .dataframe tbody tr th {\n",
       "        vertical-align: top;\n",
       "    }\n",
       "\n",
       "    .dataframe thead th {\n",
       "        text-align: right;\n",
       "    }\n",
       "</style>\n",
       "<table border=\"1\" class=\"dataframe\">\n",
       "  <thead>\n",
       "    <tr style=\"text-align: right;\">\n",
       "      <th></th>\n",
       "      <th>CRASH DATE</th>\n",
       "      <th>CRASH TIME</th>\n",
       "      <th>BOROUGH</th>\n",
       "      <th>ZIP CODE</th>\n",
       "      <th>LATITUDE</th>\n",
       "      <th>LONGITUDE</th>\n",
       "      <th>LOCATION</th>\n",
       "      <th>ON STREET NAME</th>\n",
       "      <th>CROSS STREET NAME</th>\n",
       "      <th>OFF STREET NAME</th>\n",
       "      <th>...</th>\n",
       "      <th>CONTRIBUTING FACTOR VEHICLE 2</th>\n",
       "      <th>CONTRIBUTING FACTOR VEHICLE 3</th>\n",
       "      <th>CONTRIBUTING FACTOR VEHICLE 4</th>\n",
       "      <th>CONTRIBUTING FACTOR VEHICLE 5</th>\n",
       "      <th>COLLISION_ID</th>\n",
       "      <th>VEHICLE TYPE CODE 1</th>\n",
       "      <th>VEHICLE TYPE CODE 2</th>\n",
       "      <th>VEHICLE TYPE CODE 3</th>\n",
       "      <th>VEHICLE TYPE CODE 4</th>\n",
       "      <th>VEHICLE TYPE CODE 5</th>\n",
       "    </tr>\n",
       "  </thead>\n",
       "  <tbody>\n",
       "    <tr>\n",
       "      <th>0</th>\n",
       "      <td>2020-08-29</td>\n",
       "      <td>15:40:00</td>\n",
       "      <td>BRONX</td>\n",
       "      <td>10466.0</td>\n",
       "      <td>40.89210</td>\n",
       "      <td>-73.833760</td>\n",
       "      <td>POINT (-73.83376 40.8921)</td>\n",
       "      <td>PRATT AVENUE</td>\n",
       "      <td>STRANG AVENUE</td>\n",
       "      <td>NaN</td>\n",
       "      <td>...</td>\n",
       "      <td>Unspecified</td>\n",
       "      <td>NaN</td>\n",
       "      <td>NaN</td>\n",
       "      <td>NaN</td>\n",
       "      <td>4342908</td>\n",
       "      <td>Sedan</td>\n",
       "      <td>Station Wagon/Sport Utility Vehicle</td>\n",
       "      <td>NaN</td>\n",
       "      <td>NaN</td>\n",
       "      <td>NaN</td>\n",
       "    </tr>\n",
       "    <tr>\n",
       "      <th>1</th>\n",
       "      <td>2020-08-29</td>\n",
       "      <td>21:00:00</td>\n",
       "      <td>BROOKLYN</td>\n",
       "      <td>11221.0</td>\n",
       "      <td>40.69050</td>\n",
       "      <td>-73.919914</td>\n",
       "      <td>POINT (-73.919914 40.6905)</td>\n",
       "      <td>BUSHWICK AVENUE</td>\n",
       "      <td>PALMETTO STREET</td>\n",
       "      <td>NaN</td>\n",
       "      <td>...</td>\n",
       "      <td>Unspecified</td>\n",
       "      <td>NaN</td>\n",
       "      <td>NaN</td>\n",
       "      <td>NaN</td>\n",
       "      <td>4343555</td>\n",
       "      <td>Sedan</td>\n",
       "      <td>Sedan</td>\n",
       "      <td>NaN</td>\n",
       "      <td>NaN</td>\n",
       "      <td>NaN</td>\n",
       "    </tr>\n",
       "    <tr>\n",
       "      <th>2</th>\n",
       "      <td>2020-08-29</td>\n",
       "      <td>18:20:00</td>\n",
       "      <td>NaN</td>\n",
       "      <td>NaN</td>\n",
       "      <td>40.81650</td>\n",
       "      <td>-73.946556</td>\n",
       "      <td>POINT (-73.946556 40.8165)</td>\n",
       "      <td>8 AVENUE</td>\n",
       "      <td>NaN</td>\n",
       "      <td>NaN</td>\n",
       "      <td>...</td>\n",
       "      <td>NaN</td>\n",
       "      <td>NaN</td>\n",
       "      <td>NaN</td>\n",
       "      <td>NaN</td>\n",
       "      <td>4343142</td>\n",
       "      <td>Station Wagon/Sport Utility Vehicle</td>\n",
       "      <td>NaN</td>\n",
       "      <td>NaN</td>\n",
       "      <td>NaN</td>\n",
       "      <td>NaN</td>\n",
       "    </tr>\n",
       "    <tr>\n",
       "      <th>3</th>\n",
       "      <td>2020-08-29</td>\n",
       "      <td>00:00:00</td>\n",
       "      <td>BRONX</td>\n",
       "      <td>10459.0</td>\n",
       "      <td>40.82472</td>\n",
       "      <td>-73.892960</td>\n",
       "      <td>POINT (-73.89296 40.82472)</td>\n",
       "      <td>NaN</td>\n",
       "      <td>NaN</td>\n",
       "      <td>1047 SIMPSON STREET</td>\n",
       "      <td>...</td>\n",
       "      <td>Unspecified</td>\n",
       "      <td>Unspecified</td>\n",
       "      <td>Unspecified</td>\n",
       "      <td>NaN</td>\n",
       "      <td>4343588</td>\n",
       "      <td>Station Wagon/Sport Utility Vehicle</td>\n",
       "      <td>Station Wagon/Sport Utility Vehicle</td>\n",
       "      <td>Sedan</td>\n",
       "      <td>Motorcycle</td>\n",
       "      <td>NaN</td>\n",
       "    </tr>\n",
       "    <tr>\n",
       "      <th>4</th>\n",
       "      <td>2020-08-29</td>\n",
       "      <td>17:10:00</td>\n",
       "      <td>BROOKLYN</td>\n",
       "      <td>11203.0</td>\n",
       "      <td>40.64989</td>\n",
       "      <td>-73.933890</td>\n",
       "      <td>POINT (-73.93389 40.64989)</td>\n",
       "      <td>NaN</td>\n",
       "      <td>NaN</td>\n",
       "      <td>4609 SNYDER AVENUE</td>\n",
       "      <td>...</td>\n",
       "      <td>Unspecified</td>\n",
       "      <td>NaN</td>\n",
       "      <td>NaN</td>\n",
       "      <td>NaN</td>\n",
       "      <td>4342953</td>\n",
       "      <td>Sedan</td>\n",
       "      <td>Sedan</td>\n",
       "      <td>NaN</td>\n",
       "      <td>NaN</td>\n",
       "      <td>NaN</td>\n",
       "    </tr>\n",
       "  </tbody>\n",
       "</table>\n",
       "<p>5 rows × 29 columns</p>\n",
       "</div>"
      ],
      "text/plain": [
       "   CRASH DATE CRASH TIME   BOROUGH  ZIP CODE  LATITUDE  LONGITUDE  \\\n",
       "0  2020-08-29   15:40:00     BRONX   10466.0  40.89210 -73.833760   \n",
       "1  2020-08-29   21:00:00  BROOKLYN   11221.0  40.69050 -73.919914   \n",
       "2  2020-08-29   18:20:00       NaN       NaN  40.81650 -73.946556   \n",
       "3  2020-08-29   00:00:00     BRONX   10459.0  40.82472 -73.892960   \n",
       "4  2020-08-29   17:10:00  BROOKLYN   11203.0  40.64989 -73.933890   \n",
       "\n",
       "                     LOCATION   ON STREET NAME CROSS STREET NAME  \\\n",
       "0   POINT (-73.83376 40.8921)     PRATT AVENUE     STRANG AVENUE   \n",
       "1  POINT (-73.919914 40.6905)  BUSHWICK AVENUE   PALMETTO STREET   \n",
       "2  POINT (-73.946556 40.8165)         8 AVENUE               NaN   \n",
       "3  POINT (-73.89296 40.82472)              NaN               NaN   \n",
       "4  POINT (-73.93389 40.64989)              NaN               NaN   \n",
       "\n",
       "       OFF STREET NAME  ...  CONTRIBUTING FACTOR VEHICLE 2  \\\n",
       "0                  NaN  ...                    Unspecified   \n",
       "1                  NaN  ...                    Unspecified   \n",
       "2                  NaN  ...                            NaN   \n",
       "3  1047 SIMPSON STREET  ...                    Unspecified   \n",
       "4   4609 SNYDER AVENUE  ...                    Unspecified   \n",
       "\n",
       "   CONTRIBUTING FACTOR VEHICLE 3  CONTRIBUTING FACTOR VEHICLE 4  \\\n",
       "0                            NaN                            NaN   \n",
       "1                            NaN                            NaN   \n",
       "2                            NaN                            NaN   \n",
       "3                    Unspecified                    Unspecified   \n",
       "4                            NaN                            NaN   \n",
       "\n",
       "   CONTRIBUTING FACTOR VEHICLE 5  COLLISION_ID  \\\n",
       "0                            NaN       4342908   \n",
       "1                            NaN       4343555   \n",
       "2                            NaN       4343142   \n",
       "3                            NaN       4343588   \n",
       "4                            NaN       4342953   \n",
       "\n",
       "                   VEHICLE TYPE CODE 1                  VEHICLE TYPE CODE 2  \\\n",
       "0                                Sedan  Station Wagon/Sport Utility Vehicle   \n",
       "1                                Sedan                                Sedan   \n",
       "2  Station Wagon/Sport Utility Vehicle                                  NaN   \n",
       "3  Station Wagon/Sport Utility Vehicle  Station Wagon/Sport Utility Vehicle   \n",
       "4                                Sedan                                Sedan   \n",
       "\n",
       "   VEHICLE TYPE CODE 3 VEHICLE TYPE CODE 4 VEHICLE TYPE CODE 5  \n",
       "0                  NaN                 NaN                 NaN  \n",
       "1                  NaN                 NaN                 NaN  \n",
       "2                  NaN                 NaN                 NaN  \n",
       "3                Sedan          Motorcycle                 NaN  \n",
       "4                  NaN                 NaN                 NaN  \n",
       "\n",
       "[5 rows x 29 columns]"
      ]
     },
     "execution_count": 8,
     "metadata": {},
     "output_type": "execute_result"
    }
   ],
   "source": [
    "df.head()"
   ]
  },
  {
   "cell_type": "markdown",
   "id": "07dff9b6",
   "metadata": {},
   "source": [
    "## Database Connection"
   ]
  },
  {
   "cell_type": "code",
   "execution_count": 9,
   "id": "4ec531e5",
   "metadata": {},
   "outputs": [],
   "source": [
    "conn = sql.connect('Accidents.db')"
   ]
  },
  {
   "cell_type": "code",
   "execution_count": 10,
   "id": "b621f73a",
   "metadata": {},
   "outputs": [
    {
     "data": {
      "text/plain": [
       "74881"
      ]
     },
     "execution_count": 10,
     "metadata": {},
     "output_type": "execute_result"
    }
   ],
   "source": [
    "df.to_sql('Accidents', conn, if_exists='replace', index=False)"
   ]
  },
  {
   "cell_type": "code",
   "execution_count": 11,
   "id": "d24a2f37",
   "metadata": {
    "scrolled": true
   },
   "outputs": [
    {
     "data": {
      "text/html": [
       "<div>\n",
       "<style scoped>\n",
       "    .dataframe tbody tr th:only-of-type {\n",
       "        vertical-align: middle;\n",
       "    }\n",
       "\n",
       "    .dataframe tbody tr th {\n",
       "        vertical-align: top;\n",
       "    }\n",
       "\n",
       "    .dataframe thead th {\n",
       "        text-align: right;\n",
       "    }\n",
       "</style>\n",
       "<table border=\"1\" class=\"dataframe\">\n",
       "  <thead>\n",
       "    <tr style=\"text-align: right;\">\n",
       "      <th></th>\n",
       "      <th>CRASH DATE</th>\n",
       "      <th>CRASH TIME</th>\n",
       "      <th>BOROUGH</th>\n",
       "      <th>ZIP CODE</th>\n",
       "      <th>LATITUDE</th>\n",
       "      <th>LONGITUDE</th>\n",
       "      <th>LOCATION</th>\n",
       "      <th>ON STREET NAME</th>\n",
       "      <th>CROSS STREET NAME</th>\n",
       "      <th>OFF STREET NAME</th>\n",
       "      <th>...</th>\n",
       "      <th>CONTRIBUTING FACTOR VEHICLE 2</th>\n",
       "      <th>CONTRIBUTING FACTOR VEHICLE 3</th>\n",
       "      <th>CONTRIBUTING FACTOR VEHICLE 4</th>\n",
       "      <th>CONTRIBUTING FACTOR VEHICLE 5</th>\n",
       "      <th>COLLISION_ID</th>\n",
       "      <th>VEHICLE TYPE CODE 1</th>\n",
       "      <th>VEHICLE TYPE CODE 2</th>\n",
       "      <th>VEHICLE TYPE CODE 3</th>\n",
       "      <th>VEHICLE TYPE CODE 4</th>\n",
       "      <th>VEHICLE TYPE CODE 5</th>\n",
       "    </tr>\n",
       "  </thead>\n",
       "  <tbody>\n",
       "    <tr>\n",
       "      <th>0</th>\n",
       "      <td>2020-08-29</td>\n",
       "      <td>15:40:00</td>\n",
       "      <td>BRONX</td>\n",
       "      <td>10466.0</td>\n",
       "      <td>40.89210</td>\n",
       "      <td>-73.833760</td>\n",
       "      <td>POINT (-73.83376 40.8921)</td>\n",
       "      <td>PRATT AVENUE</td>\n",
       "      <td>STRANG AVENUE</td>\n",
       "      <td>None</td>\n",
       "      <td>...</td>\n",
       "      <td>Unspecified</td>\n",
       "      <td>None</td>\n",
       "      <td>None</td>\n",
       "      <td>None</td>\n",
       "      <td>4342908</td>\n",
       "      <td>Sedan</td>\n",
       "      <td>Station Wagon/Sport Utility Vehicle</td>\n",
       "      <td>None</td>\n",
       "      <td>None</td>\n",
       "      <td>None</td>\n",
       "    </tr>\n",
       "    <tr>\n",
       "      <th>1</th>\n",
       "      <td>2020-08-29</td>\n",
       "      <td>21:00:00</td>\n",
       "      <td>BROOKLYN</td>\n",
       "      <td>11221.0</td>\n",
       "      <td>40.69050</td>\n",
       "      <td>-73.919914</td>\n",
       "      <td>POINT (-73.919914 40.6905)</td>\n",
       "      <td>BUSHWICK AVENUE</td>\n",
       "      <td>PALMETTO STREET</td>\n",
       "      <td>None</td>\n",
       "      <td>...</td>\n",
       "      <td>Unspecified</td>\n",
       "      <td>None</td>\n",
       "      <td>None</td>\n",
       "      <td>None</td>\n",
       "      <td>4343555</td>\n",
       "      <td>Sedan</td>\n",
       "      <td>Sedan</td>\n",
       "      <td>None</td>\n",
       "      <td>None</td>\n",
       "      <td>None</td>\n",
       "    </tr>\n",
       "    <tr>\n",
       "      <th>2</th>\n",
       "      <td>2020-08-29</td>\n",
       "      <td>18:20:00</td>\n",
       "      <td>None</td>\n",
       "      <td>NaN</td>\n",
       "      <td>40.81650</td>\n",
       "      <td>-73.946556</td>\n",
       "      <td>POINT (-73.946556 40.8165)</td>\n",
       "      <td>8 AVENUE</td>\n",
       "      <td>None</td>\n",
       "      <td>None</td>\n",
       "      <td>...</td>\n",
       "      <td>None</td>\n",
       "      <td>None</td>\n",
       "      <td>None</td>\n",
       "      <td>None</td>\n",
       "      <td>4343142</td>\n",
       "      <td>Station Wagon/Sport Utility Vehicle</td>\n",
       "      <td>None</td>\n",
       "      <td>None</td>\n",
       "      <td>None</td>\n",
       "      <td>None</td>\n",
       "    </tr>\n",
       "    <tr>\n",
       "      <th>3</th>\n",
       "      <td>2020-08-29</td>\n",
       "      <td>00:00:00</td>\n",
       "      <td>BRONX</td>\n",
       "      <td>10459.0</td>\n",
       "      <td>40.82472</td>\n",
       "      <td>-73.892960</td>\n",
       "      <td>POINT (-73.89296 40.82472)</td>\n",
       "      <td>None</td>\n",
       "      <td>None</td>\n",
       "      <td>1047 SIMPSON STREET</td>\n",
       "      <td>...</td>\n",
       "      <td>Unspecified</td>\n",
       "      <td>Unspecified</td>\n",
       "      <td>Unspecified</td>\n",
       "      <td>None</td>\n",
       "      <td>4343588</td>\n",
       "      <td>Station Wagon/Sport Utility Vehicle</td>\n",
       "      <td>Station Wagon/Sport Utility Vehicle</td>\n",
       "      <td>Sedan</td>\n",
       "      <td>Motorcycle</td>\n",
       "      <td>None</td>\n",
       "    </tr>\n",
       "    <tr>\n",
       "      <th>4</th>\n",
       "      <td>2020-08-29</td>\n",
       "      <td>17:10:00</td>\n",
       "      <td>BROOKLYN</td>\n",
       "      <td>11203.0</td>\n",
       "      <td>40.64989</td>\n",
       "      <td>-73.933890</td>\n",
       "      <td>POINT (-73.93389 40.64989)</td>\n",
       "      <td>None</td>\n",
       "      <td>None</td>\n",
       "      <td>4609 SNYDER AVENUE</td>\n",
       "      <td>...</td>\n",
       "      <td>Unspecified</td>\n",
       "      <td>None</td>\n",
       "      <td>None</td>\n",
       "      <td>None</td>\n",
       "      <td>4342953</td>\n",
       "      <td>Sedan</td>\n",
       "      <td>Sedan</td>\n",
       "      <td>None</td>\n",
       "      <td>None</td>\n",
       "      <td>None</td>\n",
       "    </tr>\n",
       "  </tbody>\n",
       "</table>\n",
       "<p>5 rows × 29 columns</p>\n",
       "</div>"
      ],
      "text/plain": [
       "   CRASH DATE CRASH TIME   BOROUGH  ZIP CODE  LATITUDE  LONGITUDE  \\\n",
       "0  2020-08-29   15:40:00     BRONX   10466.0  40.89210 -73.833760   \n",
       "1  2020-08-29   21:00:00  BROOKLYN   11221.0  40.69050 -73.919914   \n",
       "2  2020-08-29   18:20:00      None       NaN  40.81650 -73.946556   \n",
       "3  2020-08-29   00:00:00     BRONX   10459.0  40.82472 -73.892960   \n",
       "4  2020-08-29   17:10:00  BROOKLYN   11203.0  40.64989 -73.933890   \n",
       "\n",
       "                     LOCATION   ON STREET NAME CROSS STREET NAME  \\\n",
       "0   POINT (-73.83376 40.8921)     PRATT AVENUE     STRANG AVENUE   \n",
       "1  POINT (-73.919914 40.6905)  BUSHWICK AVENUE   PALMETTO STREET   \n",
       "2  POINT (-73.946556 40.8165)         8 AVENUE              None   \n",
       "3  POINT (-73.89296 40.82472)             None              None   \n",
       "4  POINT (-73.93389 40.64989)             None              None   \n",
       "\n",
       "       OFF STREET NAME  ...  CONTRIBUTING FACTOR VEHICLE 2  \\\n",
       "0                 None  ...                    Unspecified   \n",
       "1                 None  ...                    Unspecified   \n",
       "2                 None  ...                           None   \n",
       "3  1047 SIMPSON STREET  ...                    Unspecified   \n",
       "4   4609 SNYDER AVENUE  ...                    Unspecified   \n",
       "\n",
       "   CONTRIBUTING FACTOR VEHICLE 3  CONTRIBUTING FACTOR VEHICLE 4  \\\n",
       "0                           None                           None   \n",
       "1                           None                           None   \n",
       "2                           None                           None   \n",
       "3                    Unspecified                    Unspecified   \n",
       "4                           None                           None   \n",
       "\n",
       "   CONTRIBUTING FACTOR VEHICLE 5  COLLISION_ID  \\\n",
       "0                           None       4342908   \n",
       "1                           None       4343555   \n",
       "2                           None       4343142   \n",
       "3                           None       4343588   \n",
       "4                           None       4342953   \n",
       "\n",
       "                   VEHICLE TYPE CODE 1                  VEHICLE TYPE CODE 2  \\\n",
       "0                                Sedan  Station Wagon/Sport Utility Vehicle   \n",
       "1                                Sedan                                Sedan   \n",
       "2  Station Wagon/Sport Utility Vehicle                                 None   \n",
       "3  Station Wagon/Sport Utility Vehicle  Station Wagon/Sport Utility Vehicle   \n",
       "4                                Sedan                                Sedan   \n",
       "\n",
       "   VEHICLE TYPE CODE 3 VEHICLE TYPE CODE 4 VEHICLE TYPE CODE 5  \n",
       "0                 None                None                None  \n",
       "1                 None                None                None  \n",
       "2                 None                None                None  \n",
       "3                Sedan          Motorcycle                None  \n",
       "4                 None                None                None  \n",
       "\n",
       "[5 rows x 29 columns]"
      ]
     },
     "execution_count": 11,
     "metadata": {},
     "output_type": "execute_result"
    }
   ],
   "source": [
    "pd.read_sql_query(\"SELECT * FROM Accidents LIMIT 5\", conn)"
   ]
  },
  {
   "cell_type": "markdown",
   "id": "ea34fada",
   "metadata": {},
   "source": [
    "## Data Cleaning "
   ]
  },
  {
   "cell_type": "code",
   "execution_count": 12,
   "id": "edfddbc1",
   "metadata": {},
   "outputs": [],
   "source": [
    "# Combine 'CRASH DATE' and 'CRASH TIME' into a single datetime column\n",
    "df['CRASH DATETIME'] = pd.to_datetime(df['CRASH DATE'] + ' ' + df['CRASH TIME'])\n",
    "df = df.drop(['CRASH DATE', 'CRASH TIME'], axis=1)\n"
   ]
  },
  {
   "cell_type": "code",
   "execution_count": 13,
   "id": "0b5024e1",
   "metadata": {},
   "outputs": [],
   "source": [
    "# Fill NaN values in 'BOROUGH' with 'UNKNOWN'\n",
    "df['BOROUGH'] = df['BOROUGH'].fillna('UNKNOWN')"
   ]
  },
  {
   "cell_type": "code",
   "execution_count": 14,
   "id": "1a30c923",
   "metadata": {},
   "outputs": [],
   "source": [
    "# Fill NaN values in 'ZIP CODE' with a value indicating missing data, here I used 0\n",
    "df['ZIP CODE'] = df['ZIP CODE'].fillna(0)"
   ]
  },
  {
   "cell_type": "code",
   "execution_count": 15,
   "id": "eaf8f8b3",
   "metadata": {},
   "outputs": [],
   "source": [
    "# Handle 'Unspecified' or None in 'CONTRIBUTING FACTOR VEHICLE 1'\n",
    "df.loc[df['CONTRIBUTING FACTOR VEHICLE 1'].isin(['Unspecified', None]), 'CONTRIBUTING FACTOR VEHICLE 1'] = 'UNKNOWN'"
   ]
  },
  {
   "cell_type": "code",
   "execution_count": 18,
   "id": "eced35ed",
   "metadata": {
    "scrolled": false
   },
   "outputs": [
    {
     "data": {
      "text/html": [
       "<div>\n",
       "<style scoped>\n",
       "    .dataframe tbody tr th:only-of-type {\n",
       "        vertical-align: middle;\n",
       "    }\n",
       "\n",
       "    .dataframe tbody tr th {\n",
       "        vertical-align: top;\n",
       "    }\n",
       "\n",
       "    .dataframe thead th {\n",
       "        text-align: right;\n",
       "    }\n",
       "</style>\n",
       "<table border=\"1\" class=\"dataframe\">\n",
       "  <thead>\n",
       "    <tr style=\"text-align: right;\">\n",
       "      <th></th>\n",
       "      <th>BOROUGH</th>\n",
       "      <th>ZIP CODE</th>\n",
       "      <th>LATITUDE</th>\n",
       "      <th>LONGITUDE</th>\n",
       "      <th>LOCATION</th>\n",
       "      <th>ON STREET NAME</th>\n",
       "      <th>CROSS STREET NAME</th>\n",
       "      <th>OFF STREET NAME</th>\n",
       "      <th>NUMBER OF PERSONS INJURED</th>\n",
       "      <th>NUMBER OF PERSONS KILLED</th>\n",
       "      <th>...</th>\n",
       "      <th>CONTRIBUTING FACTOR VEHICLE 3</th>\n",
       "      <th>CONTRIBUTING FACTOR VEHICLE 4</th>\n",
       "      <th>CONTRIBUTING FACTOR VEHICLE 5</th>\n",
       "      <th>COLLISION_ID</th>\n",
       "      <th>VEHICLE TYPE CODE 1</th>\n",
       "      <th>VEHICLE TYPE CODE 2</th>\n",
       "      <th>VEHICLE TYPE CODE 3</th>\n",
       "      <th>VEHICLE TYPE CODE 4</th>\n",
       "      <th>VEHICLE TYPE CODE 5</th>\n",
       "      <th>CRASH DATETIME</th>\n",
       "    </tr>\n",
       "  </thead>\n",
       "  <tbody>\n",
       "    <tr>\n",
       "      <th>0</th>\n",
       "      <td>BRONX</td>\n",
       "      <td>10466.0</td>\n",
       "      <td>40.89210</td>\n",
       "      <td>-73.833760</td>\n",
       "      <td>POINT (-73.83376 40.8921)</td>\n",
       "      <td>PRATT AVENUE</td>\n",
       "      <td>STRANG AVENUE</td>\n",
       "      <td>NaN</td>\n",
       "      <td>0</td>\n",
       "      <td>0</td>\n",
       "      <td>...</td>\n",
       "      <td>NaN</td>\n",
       "      <td>NaN</td>\n",
       "      <td>NaN</td>\n",
       "      <td>4342908</td>\n",
       "      <td>Sedan</td>\n",
       "      <td>Station Wagon/Sport Utility Vehicle</td>\n",
       "      <td>NaN</td>\n",
       "      <td>NaN</td>\n",
       "      <td>NaN</td>\n",
       "      <td>2020-08-29 15:40:00</td>\n",
       "    </tr>\n",
       "    <tr>\n",
       "      <th>1</th>\n",
       "      <td>BROOKLYN</td>\n",
       "      <td>11221.0</td>\n",
       "      <td>40.69050</td>\n",
       "      <td>-73.919914</td>\n",
       "      <td>POINT (-73.919914 40.6905)</td>\n",
       "      <td>BUSHWICK AVENUE</td>\n",
       "      <td>PALMETTO STREET</td>\n",
       "      <td>NaN</td>\n",
       "      <td>2</td>\n",
       "      <td>0</td>\n",
       "      <td>...</td>\n",
       "      <td>NaN</td>\n",
       "      <td>NaN</td>\n",
       "      <td>NaN</td>\n",
       "      <td>4343555</td>\n",
       "      <td>Sedan</td>\n",
       "      <td>Sedan</td>\n",
       "      <td>NaN</td>\n",
       "      <td>NaN</td>\n",
       "      <td>NaN</td>\n",
       "      <td>2020-08-29 21:00:00</td>\n",
       "    </tr>\n",
       "    <tr>\n",
       "      <th>2</th>\n",
       "      <td>UNKNOWN</td>\n",
       "      <td>0.0</td>\n",
       "      <td>40.81650</td>\n",
       "      <td>-73.946556</td>\n",
       "      <td>POINT (-73.946556 40.8165)</td>\n",
       "      <td>8 AVENUE</td>\n",
       "      <td>NaN</td>\n",
       "      <td>NaN</td>\n",
       "      <td>1</td>\n",
       "      <td>0</td>\n",
       "      <td>...</td>\n",
       "      <td>NaN</td>\n",
       "      <td>NaN</td>\n",
       "      <td>NaN</td>\n",
       "      <td>4343142</td>\n",
       "      <td>Station Wagon/Sport Utility Vehicle</td>\n",
       "      <td>NaN</td>\n",
       "      <td>NaN</td>\n",
       "      <td>NaN</td>\n",
       "      <td>NaN</td>\n",
       "      <td>2020-08-29 18:20:00</td>\n",
       "    </tr>\n",
       "    <tr>\n",
       "      <th>3</th>\n",
       "      <td>BRONX</td>\n",
       "      <td>10459.0</td>\n",
       "      <td>40.82472</td>\n",
       "      <td>-73.892960</td>\n",
       "      <td>POINT (-73.89296 40.82472)</td>\n",
       "      <td>NaN</td>\n",
       "      <td>NaN</td>\n",
       "      <td>1047 SIMPSON STREET</td>\n",
       "      <td>0</td>\n",
       "      <td>0</td>\n",
       "      <td>...</td>\n",
       "      <td>Unspecified</td>\n",
       "      <td>Unspecified</td>\n",
       "      <td>NaN</td>\n",
       "      <td>4343588</td>\n",
       "      <td>Station Wagon/Sport Utility Vehicle</td>\n",
       "      <td>Station Wagon/Sport Utility Vehicle</td>\n",
       "      <td>Sedan</td>\n",
       "      <td>Motorcycle</td>\n",
       "      <td>NaN</td>\n",
       "      <td>2020-08-29 00:00:00</td>\n",
       "    </tr>\n",
       "    <tr>\n",
       "      <th>4</th>\n",
       "      <td>BROOKLYN</td>\n",
       "      <td>11203.0</td>\n",
       "      <td>40.64989</td>\n",
       "      <td>-73.933890</td>\n",
       "      <td>POINT (-73.93389 40.64989)</td>\n",
       "      <td>NaN</td>\n",
       "      <td>NaN</td>\n",
       "      <td>4609 SNYDER AVENUE</td>\n",
       "      <td>0</td>\n",
       "      <td>0</td>\n",
       "      <td>...</td>\n",
       "      <td>NaN</td>\n",
       "      <td>NaN</td>\n",
       "      <td>NaN</td>\n",
       "      <td>4342953</td>\n",
       "      <td>Sedan</td>\n",
       "      <td>Sedan</td>\n",
       "      <td>NaN</td>\n",
       "      <td>NaN</td>\n",
       "      <td>NaN</td>\n",
       "      <td>2020-08-29 17:10:00</td>\n",
       "    </tr>\n",
       "  </tbody>\n",
       "</table>\n",
       "<p>5 rows × 28 columns</p>\n",
       "</div>"
      ],
      "text/plain": [
       "    BOROUGH  ZIP CODE  LATITUDE  LONGITUDE                    LOCATION  \\\n",
       "0     BRONX   10466.0  40.89210 -73.833760   POINT (-73.83376 40.8921)   \n",
       "1  BROOKLYN   11221.0  40.69050 -73.919914  POINT (-73.919914 40.6905)   \n",
       "2   UNKNOWN       0.0  40.81650 -73.946556  POINT (-73.946556 40.8165)   \n",
       "3     BRONX   10459.0  40.82472 -73.892960  POINT (-73.89296 40.82472)   \n",
       "4  BROOKLYN   11203.0  40.64989 -73.933890  POINT (-73.93389 40.64989)   \n",
       "\n",
       "    ON STREET NAME CROSS STREET NAME      OFF STREET NAME  \\\n",
       "0     PRATT AVENUE     STRANG AVENUE                  NaN   \n",
       "1  BUSHWICK AVENUE   PALMETTO STREET                  NaN   \n",
       "2         8 AVENUE               NaN                  NaN   \n",
       "3              NaN               NaN  1047 SIMPSON STREET   \n",
       "4              NaN               NaN   4609 SNYDER AVENUE   \n",
       "\n",
       "   NUMBER OF PERSONS INJURED  NUMBER OF PERSONS KILLED  ...  \\\n",
       "0                          0                         0  ...   \n",
       "1                          2                         0  ...   \n",
       "2                          1                         0  ...   \n",
       "3                          0                         0  ...   \n",
       "4                          0                         0  ...   \n",
       "\n",
       "   CONTRIBUTING FACTOR VEHICLE 3  CONTRIBUTING FACTOR VEHICLE 4  \\\n",
       "0                            NaN                            NaN   \n",
       "1                            NaN                            NaN   \n",
       "2                            NaN                            NaN   \n",
       "3                    Unspecified                    Unspecified   \n",
       "4                            NaN                            NaN   \n",
       "\n",
       "   CONTRIBUTING FACTOR VEHICLE 5  COLLISION_ID  \\\n",
       "0                            NaN       4342908   \n",
       "1                            NaN       4343555   \n",
       "2                            NaN       4343142   \n",
       "3                            NaN       4343588   \n",
       "4                            NaN       4342953   \n",
       "\n",
       "                   VEHICLE TYPE CODE 1                  VEHICLE TYPE CODE 2  \\\n",
       "0                                Sedan  Station Wagon/Sport Utility Vehicle   \n",
       "1                                Sedan                                Sedan   \n",
       "2  Station Wagon/Sport Utility Vehicle                                  NaN   \n",
       "3  Station Wagon/Sport Utility Vehicle  Station Wagon/Sport Utility Vehicle   \n",
       "4                                Sedan                                Sedan   \n",
       "\n",
       "  VEHICLE TYPE CODE 3 VEHICLE TYPE CODE 4 VEHICLE TYPE CODE 5  \\\n",
       "0                 NaN                 NaN                 NaN   \n",
       "1                 NaN                 NaN                 NaN   \n",
       "2                 NaN                 NaN                 NaN   \n",
       "3               Sedan          Motorcycle                 NaN   \n",
       "4                 NaN                 NaN                 NaN   \n",
       "\n",
       "       CRASH DATETIME  \n",
       "0 2020-08-29 15:40:00  \n",
       "1 2020-08-29 21:00:00  \n",
       "2 2020-08-29 18:20:00  \n",
       "3 2020-08-29 00:00:00  \n",
       "4 2020-08-29 17:10:00  \n",
       "\n",
       "[5 rows x 28 columns]"
      ]
     },
     "execution_count": 18,
     "metadata": {},
     "output_type": "execute_result"
    }
   ],
   "source": [
    "df.head()"
   ]
  },
  {
   "cell_type": "code",
   "execution_count": 16,
   "id": "15d6a38c",
   "metadata": {},
   "outputs": [
    {
     "data": {
      "text/plain": [
       "74881"
      ]
     },
     "execution_count": 16,
     "metadata": {},
     "output_type": "execute_result"
    }
   ],
   "source": [
    "conn = sql.connect('Accidents.db')\n",
    "df.to_sql('Accidents', conn, if_exists='replace', index=False)\n"
   ]
  },
  {
   "cell_type": "markdown",
   "id": "21ad1501",
   "metadata": {},
   "source": [
    "## DATA ANALYSIS"
   ]
  },
  {
   "cell_type": "markdown",
   "id": "c9bac5b1",
   "metadata": {},
   "source": [
    "### What is the total count of recorded crashes?"
   ]
  },
  {
   "cell_type": "code",
   "execution_count": 17,
   "id": "c27598a1",
   "metadata": {},
   "outputs": [
    {
     "name": "stdout",
     "output_type": "stream",
     "text": [
      "Total recorded crashes: 74881\n"
     ]
    }
   ],
   "source": [
    "query = \"SELECT COUNT(*) FROM Accidents\"\n",
    "total_crashes = pd.read_sql_query(query, conn)\n",
    "print('Total recorded crashes:', total_crashes.values[0][0])\n"
   ]
  },
  {
   "cell_type": "markdown",
   "id": "b5e31563",
   "metadata": {},
   "source": [
    "### What is the earliest and latest date of recorded crashes?"
   ]
  },
  {
   "cell_type": "code",
   "execution_count": 18,
   "id": "04b70eba",
   "metadata": {},
   "outputs": [
    {
     "name": "stdout",
     "output_type": "stream",
     "text": [
      "Earliest recorded crash: 2020-01-01 00:00:00\n",
      "Latest recorded crash: 2020-08-29 23:50:00\n"
     ]
    }
   ],
   "source": [
    "earliest_date_query = 'SELECT MIN(\"CRASH DATETIME\") FROM Accidents'\n",
    "latest_date_query = 'SELECT MAX(\"CRASH DATETIME\") FROM Accidents'\n",
    "\n",
    "earliest_date = pd.read_sql_query(earliest_date_query, conn)\n",
    "latest_date = pd.read_sql_query(latest_date_query, conn)\n",
    "\n",
    "print('Earliest recorded crash:', earliest_date.values[0][0])\n",
    "print('Latest recorded crash:', latest_date.values[0][0])\n",
    "\n"
   ]
  },
  {
   "cell_type": "markdown",
   "id": "d8776dac",
   "metadata": {},
   "source": [
    "### Compare the % of total accidents by month. Do you notice any seasonal patterns?"
   ]
  },
  {
   "cell_type": "code",
   "execution_count": 19,
   "id": "c3a99e15",
   "metadata": {},
   "outputs": [
    {
     "name": "stdout",
     "output_type": "stream",
     "text": [
      "  Month  Percentage\n",
      "0    01   19.079606\n",
      "1    02   18.274329\n",
      "2    03   14.766096\n",
      "3    04    5.496721\n",
      "4    05    8.211696\n",
      "5    06   10.170804\n",
      "6    07   12.319547\n",
      "7    08   11.681201\n"
     ]
    }
   ],
   "source": [
    "query = \"\"\"\n",
    "SELECT \n",
    "    strftime('%m', \"CRASH DATETIME\") AS Month, \n",
    "    COUNT(*)*100.0/(SELECT COUNT(*) FROM Accidents) AS Percentage\n",
    "FROM \n",
    "    Accidents\n",
    "GROUP BY \n",
    "    Month\n",
    "ORDER BY\n",
    "    Month\n",
    "\"\"\"\n",
    "\n",
    "monthly_accidents = pd.read_sql_query(query, conn)\n",
    "\n",
    "print(monthly_accidents)\n"
   ]
  },
  {
   "cell_type": "markdown",
   "id": "be3778aa",
   "metadata": {},
   "source": [
    "From the percentages, it looks like the first three months (January, February, March) see a higher proportion of accidents, compared to the remaining months. The percentage drops significantly in April and then gradually increases through June, July, and August. This can be potentially explained by weather conditions (such as snow or ice in winter months) which can impact the number of accidents. Similarly, more people might be traveling in the summer months (June, July, and August), which might explain the rise in the accident percentage."
   ]
  },
  {
   "cell_type": "markdown",
   "id": "3c24976c",
   "metadata": {},
   "source": [
    "### Break down accident frequency by day of week and hour of day. Based on this data, when do accidents occur most frequently?\n",
    "\n"
   ]
  },
  {
   "cell_type": "code",
   "execution_count": 20,
   "id": "711a102e",
   "metadata": {},
   "outputs": [
    {
     "name": "stdout",
     "output_type": "stream",
     "text": [
      "Day with the most accidents: 5\n",
      "Hour with the most accidents: 16\n"
     ]
    }
   ],
   "source": [
    "# Query for accident frequency by day of week\n",
    "query_day = \"\"\"\n",
    "SELECT \n",
    "    strftime('%w', \"CRASH DATETIME\") AS DayOfWeek, \n",
    "    COUNT(*) AS AccidentCount \n",
    "FROM \n",
    "    Accidents \n",
    "GROUP BY \n",
    "    DayOfWeek\n",
    "ORDER BY \n",
    "    AccidentCount DESC\n",
    "\"\"\"\n",
    "\n",
    "# Query for accident frequency by hour of day\n",
    "query_hour = \"\"\"\n",
    "SELECT \n",
    "    strftime('%H', \"CRASH DATETIME\") AS HourOfDay, \n",
    "    COUNT(*) AS AccidentCount \n",
    "FROM \n",
    "    Accidents \n",
    "GROUP BY \n",
    "    HourOfDay\n",
    "ORDER BY \n",
    "    AccidentCount DESC\n",
    "\"\"\"\n",
    "\n",
    "# Execute the queries\n",
    "accidents_by_day = pd.read_sql_query(query_day, conn)\n",
    "accidents_by_hour = pd.read_sql_query(query_hour, conn)\n",
    "\n",
    "# Print the day and hour with the most accidents\n",
    "print('Day with the most accidents:', accidents_by_day['DayOfWeek'][0])\n",
    "print('Hour with the most accidents:', accidents_by_hour['HourOfDay'][0])\n"
   ]
  },
  {
   "cell_type": "markdown",
   "id": "294cd2ab",
   "metadata": {},
   "source": [
    "The day with the most accidents is '5', which represents Friday when using the 'strftime' function with '%w' in SQLite. This indicates that most accidents occur on Fridays.\n",
    "\n",
    "The hour with the most accidents is '16', which is 4 PM in a 24-hour clock format. This suggests that 4 PM is the hour when most accidents occur."
   ]
  },
  {
   "cell_type": "code",
   "execution_count": 21,
   "id": "8469d34b",
   "metadata": {},
   "outputs": [
    {
     "name": "stdout",
     "output_type": "stream",
     "text": [
      "Street with the most accidents: BELT PARKWAY\n",
      "Percentage of total accidents: 2.238294495346656\n"
     ]
    }
   ],
   "source": [
    "# Query for most accident-prone street excluding 'None'\n",
    "query_street = \"\"\"\n",
    "SELECT \n",
    "    \"ON STREET NAME\" AS Street, \n",
    "    COUNT(*) AS AccidentCount, \n",
    "    COUNT(*)*100.0/(SELECT COUNT(*) FROM Accidents WHERE \"ON STREET NAME\" IS NOT NULL) AS Percentage\n",
    "FROM \n",
    "    Accidents \n",
    "WHERE \n",
    "    \"ON STREET NAME\" IS NOT NULL\n",
    "GROUP BY \n",
    "    Street\n",
    "ORDER BY \n",
    "    AccidentCount DESC\n",
    "LIMIT 1\n",
    "\"\"\"\n",
    "\n",
    "# Execute the query\n",
    "most_accidents_street = pd.read_sql_query(query_street, conn)\n",
    "\n",
    "# Print the street with the most accidents and its percentage of total accidents\n",
    "print('Street with the most accidents:', most_accidents_street['Street'][0])\n",
    "print('Percentage of total accidents:', most_accidents_street['Percentage'][0])\n",
    "\n"
   ]
  },
  {
   "cell_type": "markdown",
   "id": "35728c5c",
   "metadata": {},
   "source": [
    "The street with the most recorded accidents in your dataset is \"BELT PARKWAY\". These accidents represent approximately 2.24% of the total recorded accidents on streets where the street name was provided.This could suggest that \"BELT PARKWAY\" might be a high-risk area. However, other factors could potentially explain the trend, which include traffic volume, road conditions, weather conditions, etc. "
   ]
  },
  {
   "cell_type": "markdown",
   "id": "b3944b87",
   "metadata": {},
   "source": [
    "### What was the most common contributing factor for the accidents reported in this sample (based on Vehicle 1)? What about for fatal accidents specifically?"
   ]
  },
  {
   "cell_type": "code",
   "execution_count": 22,
   "id": "55392b1a",
   "metadata": {},
   "outputs": [
    {
     "name": "stdout",
     "output_type": "stream",
     "text": [
      "Most common contributing factor for all accidents: UNKNOWN\n"
     ]
    }
   ],
   "source": [
    "# Query for most common contributing factor for all accidents\n",
    "query_factor_all = \"\"\"\n",
    "SELECT \n",
    "    \"CONTRIBUTING FACTOR VEHICLE 1\" AS ContributingFactor, \n",
    "    COUNT(*) AS AccidentCount \n",
    "FROM \n",
    "    Accidents \n",
    "GROUP BY \n",
    "    ContributingFactor\n",
    "ORDER BY \n",
    "    AccidentCount DESC\n",
    "LIMIT 1\n",
    "\"\"\"\n",
    "\n",
    "# Execute the query\n",
    "most_common_factor_all = pd.read_sql_query(query_factor_all, conn)\n",
    "\n",
    "# Print the most common contributing factor for all accidents\n",
    "print('Most common contributing factor for all accidents:', most_common_factor_all['ContributingFactor'][0])\n"
   ]
  },
  {
   "cell_type": "markdown",
   "id": "6ea2685f",
   "metadata": {},
   "source": [
    "The most common contributing factor for all accidents in your dataset is listed as 'UNKNOWN'. This could indicate that in a large number of accidents, the exact cause was not determined, not recorded, or perhaps multiple factors contributed to the accident, and none were singled out."
   ]
  },
  {
   "cell_type": "code",
   "execution_count": 32,
   "id": "7c597874",
   "metadata": {},
   "outputs": [
    {
     "name": "stdout",
     "output_type": "stream",
     "text": [
      "Most common known contributing factor for all accidents: Driver Inattention/Distraction\n"
     ]
    }
   ],
   "source": [
    "#Exclude the UNKNOWN reason to establish the most common known contributing factor.\n",
    "# Query for most common known contributing factor for all accidents\n",
    "query_factor_all_known = \"\"\"\n",
    "SELECT \n",
    "    \"CONTRIBUTING FACTOR VEHICLE 1\" AS ContributingFactor, \n",
    "    COUNT(*) AS AccidentCount \n",
    "FROM \n",
    "    Accidents \n",
    "WHERE \n",
    "    \"CONTRIBUTING FACTOR VEHICLE 1\" != 'UNKNOWN'\n",
    "GROUP BY \n",
    "    ContributingFactor\n",
    "ORDER BY \n",
    "    AccidentCount DESC\n",
    "LIMIT 1\n",
    "\"\"\"\n",
    "\n",
    "# Execute the query\n",
    "most_common_factor_all_known = pd.read_sql_query(query_factor_all_known, conn)\n",
    "\n",
    "# Print the most common known contributing factor for all accidents\n",
    "print('Most common known contributing factor for all accidents:', most_common_factor_all_known['ContributingFactor'][0])\n"
   ]
  },
  {
   "cell_type": "code",
   "execution_count": 23,
   "id": "4fb69e97",
   "metadata": {},
   "outputs": [
    {
     "name": "stdout",
     "output_type": "stream",
     "text": [
      "Most common known contributing factor for fatal accidents: Unsafe Speed\n"
     ]
    }
   ],
   "source": [
    "# Query for most common known contributing factor for fatal accidents\n",
    "query_factor_fatal_known = \"\"\"\n",
    "SELECT \n",
    "    \"CONTRIBUTING FACTOR VEHICLE 1\" AS ContributingFactor, \n",
    "    COUNT(*) AS AccidentCount \n",
    "FROM \n",
    "    Accidents \n",
    "WHERE \n",
    "    \"NUMBER OF PERSONS KILLED\" > 0\n",
    "AND \n",
    "    \"CONTRIBUTING FACTOR VEHICLE 1\" != 'UNKNOWN'\n",
    "GROUP BY \n",
    "    ContributingFactor\n",
    "ORDER BY \n",
    "    AccidentCount DESC\n",
    "LIMIT 1\n",
    "\"\"\"\n",
    "\n",
    "# Execute the query\n",
    "most_common_factor_fatal_known = pd.read_sql_query(query_factor_fatal_known, conn)\n",
    "\n",
    "# Print the most common known contributing factor for fatal accidents\n",
    "print('Most common known contributing factor for fatal accidents:', most_common_factor_fatal_known['ContributingFactor'][0])\n"
   ]
  },
  {
   "cell_type": "markdown",
   "id": "6b3bee6e",
   "metadata": {},
   "source": [
    "### What is the Distribution of Accidents by Borough?"
   ]
  },
  {
   "cell_type": "code",
   "execution_count": 34,
   "id": "09f784f7",
   "metadata": {},
   "outputs": [
    {
     "name": "stdout",
     "output_type": "stream",
     "text": [
      "         BOROUGH  AccidentCount  Percentage\n",
      "0        UNKNOWN          25741   34.375876\n",
      "1       BROOKLYN          16907   22.578491\n",
      "2         QUEENS          14017   18.719034\n",
      "3          BRONX           9417   12.575954\n",
      "4      MANHATTAN           7353    9.819580\n",
      "5  STATEN ISLAND           1446    1.931064\n"
     ]
    }
   ],
   "source": [
    "# Query for distribution of accidents by borough\n",
    "query_borough = \"\"\"\n",
    "SELECT \n",
    "    BOROUGH, \n",
    "    COUNT(*) AS AccidentCount,\n",
    "    COUNT(*)*100.0/(SELECT COUNT(*) FROM Accidents) AS Percentage\n",
    "FROM \n",
    "    Accidents \n",
    "GROUP BY \n",
    "    BOROUGH\n",
    "ORDER BY \n",
    "    AccidentCount DESC\n",
    "\"\"\"\n",
    "\n",
    "# Execute the query\n",
    "accidents_borough = pd.read_sql_query(query_borough, conn)\n",
    "\n",
    "# Display the distribution of accidents by borough\n",
    "print(accidents_borough)\n"
   ]
  },
  {
   "cell_type": "markdown",
   "id": "6092e8b4",
   "metadata": {},
   "source": [
    "This output tells us that the borough with the most recorded accidents in your dataset is 'UNKNOWN', which suggests that in many accidents, the borough was not recorded or not determinable."
   ]
  },
  {
   "cell_type": "code",
   "execution_count": 24,
   "id": "e9684433",
   "metadata": {},
   "outputs": [
    {
     "name": "stdout",
     "output_type": "stream",
     "text": [
      "         BOROUGH  AccidentCount  Percentage\n",
      "0       BROOKLYN          16907   34.405779\n",
      "1         QUEENS          14017   28.524624\n",
      "2          BRONX           9417   19.163614\n",
      "3      MANHATTAN           7353   14.963370\n",
      "4  STATEN ISLAND           1446    2.942613\n"
     ]
    }
   ],
   "source": [
    "# Query for distribution of accidents by borough excluding 'UNKNOWN'\n",
    "query_borough_known = \"\"\"\n",
    "SELECT \n",
    "    BOROUGH, \n",
    "    COUNT(*) AS AccidentCount,\n",
    "    COUNT(*)*100.0/(SELECT COUNT(*) FROM Accidents WHERE BOROUGH != 'UNKNOWN') AS Percentage\n",
    "FROM \n",
    "    Accidents \n",
    "WHERE \n",
    "    BOROUGH != 'UNKNOWN'\n",
    "GROUP BY \n",
    "    BOROUGH\n",
    "ORDER BY \n",
    "    AccidentCount DESC\n",
    "\"\"\"\n",
    "\n",
    "# Execute the query\n",
    "accidents_borough_known = pd.read_sql_query(query_borough_known, conn)\n",
    "\n",
    "# Display the distribution of accidents by borough excluding 'UNKNOWN'\n",
    "print(accidents_borough_known)\n"
   ]
  },
  {
   "cell_type": "markdown",
   "id": "2c463922",
   "metadata": {},
   "source": [
    "This updated distribution provides a clearer picture of the accident distribution by borough, excluding the 'UNKNOWN' entries."
   ]
  },
  {
   "cell_type": "code",
   "execution_count": 25,
   "id": "a28c7e95",
   "metadata": {
    "scrolled": true
   },
   "outputs": [
    {
     "data": {
      "image/png": "[encoded data removed]",
      "text/plain": [
       "<Figure size 1000x500 with 1 Axes>"
      ]
     },
     "metadata": {},
     "output_type": "display_data"
    }
   ],
   "source": [
    "#DATA VISUALIZATION\n",
    "# Set the figure size\n",
    "plt.figure(figsize=(10, 5))\n",
    "\n",
    "# Plotting the data\n",
    "plt.bar(accidents_borough_known['BOROUGH'], accidents_borough_known['AccidentCount'])\n",
    "plt.xlabel('Borough')\n",
    "plt.ylabel('Number of Accidents')\n",
    "plt.title('Distribution of Accidents by Borough (Excluding \"UNKNOWN\")')\n",
    "\n",
    "# Display the plot\n",
    "plt.show()"
   ]
  },
  {
   "cell_type": "markdown",
   "id": "7fb9f341",
   "metadata": {},
   "source": [
    "### What is the distribution of the Type of Vehicles Involved?"
   ]
  },
  {
   "cell_type": "code",
   "execution_count": 26,
   "id": "4542cd61",
   "metadata": {},
   "outputs": [
    {
     "name": "stdout",
     "output_type": "stream",
     "text": [
      "                             VehicleType  AccidentCount  Percentage\n",
      "0                                  Sedan          34349   45.871449\n",
      "1    Station Wagon/Sport Utility Vehicle          27541   36.779690\n",
      "2                                   Taxi           2768    3.696532\n",
      "3                          Pick-up Truck           1882    2.513321\n",
      "4                              Box Truck           1417    1.892336\n",
      "..                                   ...            ...         ...\n",
      "268                                  Amb              1    0.001335\n",
      "269                            AMBULENCE              1    0.001335\n",
      "270                                   1C              1    0.001335\n",
      "271                           18 WHEELER              1    0.001335\n",
      "272                                    0              1    0.001335\n",
      "\n",
      "[273 rows x 3 columns]\n"
     ]
    }
   ],
   "source": [
    "# Query for the distribution of vehicle types\n",
    "query_vehicle_type = \"\"\"\n",
    "SELECT \n",
    "    \"VEHICLE TYPE CODE 1\" AS VehicleType, \n",
    "    COUNT(*) AS AccidentCount,\n",
    "    COUNT(*)*100.0/(SELECT COUNT(*) FROM Accidents) AS Percentage\n",
    "FROM \n",
    "    Accidents \n",
    "GROUP BY \n",
    "    VehicleType\n",
    "ORDER BY \n",
    "    AccidentCount DESC\n",
    "\"\"\"\n",
    "\n",
    "# Execute the query\n",
    "vehicle_type_distribution = pd.read_sql_query(query_vehicle_type, conn)\n",
    "\n",
    "# Display the distribution of vehicle types involved in accidents\n",
    "print(vehicle_type_distribution)\n"
   ]
  },
  {
   "cell_type": "markdown",
   "id": "c819b1d9",
   "metadata": {},
   "source": [
    "Based on the analysis of the type of vehicles involved in the accidents, the top five vehicle types with the highest accident counts and their corresponding percentages are as follows:\n",
    "\n",
    "1. Sedan: 34,349 accidents, accounting for approximately 45.87% of the total accidents.\n",
    "2. Station Wagon/Sport Utility Vehicle: 27,541 accidents, representing around 36.78% of the total accidents.\n",
    "3. Taxi: 2,768 accidents, making up roughly 3.70% of the total accidents.\n",
    "4. Pick-up Truck: 1,882 accidents, constituting approximately 2.51% of the total accidents.\n",
    "5. Box Truck: 1,417 accidents, accounting for about 1.89% of the total accidents."
   ]
  },
  {
   "cell_type": "code",
   "execution_count": 30,
   "id": "5f576b1b",
   "metadata": {},
   "outputs": [
    {
     "data": {
      "image/png": "[encoded data removed]",
      "text/plain": [
       "<Figure size 1200x600 with 1 Axes>"
      ]
     },
     "metadata": {},
     "output_type": "display_data"
    }
   ],
   "source": [
    "# Filter out None values from the DataFrame\n",
    "top_10_vehicle_types = top_10_vehicle_types.dropna(subset=['VehicleType'])\n",
    "\n",
    "# Set the figure size\n",
    "plt.figure(figsize=(12, 6))\n",
    "\n",
    "# Plotting the data\n",
    "plt.bar(top_10_vehicle_types['VehicleType'], top_10_vehicle_types['AccidentCount'])\n",
    "plt.xlabel('Vehicle Type')\n",
    "plt.ylabel('Number of Accidents')\n",
    "plt.title('Top 10 Vehicle Types Involved in Accidents')\n",
    "\n",
    "# Rotate x-axis labels for better visibility\n",
    "plt.xticks(rotation=90)\n",
    "\n",
    "# Display the plot\n",
    "plt.show()\n",
    "\n"
   ]
  },
  {
   "cell_type": "markdown",
   "id": "bcaedc14",
   "metadata": {},
   "source": [
    "### Is there any relationship between contributing factors and fatalities or the involvement of certain vehicle types in accidents?"
   ]
  },
  {
   "cell_type": "code",
   "execution_count": 32,
   "id": "a99ea998",
   "metadata": {},
   "outputs": [
    {
     "data": {
      "image/png": "[encoded data removed]",
      "text/plain": [
       "<Figure size 1200x600 with 2 Axes>"
      ]
     },
     "metadata": {},
     "output_type": "display_data"
    }
   ],
   "source": [
    "\n",
    "# Query for cross-tabulation of contributing factors and fatalities\n",
    "query_factor_fatality = \"\"\"\n",
    "SELECT \n",
    "    \"CONTRIBUTING FACTOR VEHICLE 1\" AS ContributingFactor, \n",
    "    COUNT(*) AS FatalAccidentCount\n",
    "FROM \n",
    "    Accidents \n",
    "WHERE \n",
    "    \"NUMBER OF PERSONS KILLED\" > 0\n",
    "GROUP BY \n",
    "    \"CONTRIBUTING FACTOR VEHICLE 1\"\n",
    "\"\"\"\n",
    "\n",
    "# Execute the query\n",
    "factor_fatality_cross_tab = pd.read_sql_query(query_factor_fatality, conn)\n",
    "\n",
    "# Pivot the data for the heatmap\n",
    "heatmap_data = factor_fatality_cross_tab.pivot_table(index='ContributingFactor', values='FatalAccidentCount')\n",
    "\n",
    "# Import Seaborn\n",
    "import seaborn as sns\n",
    "\n",
    "# Create the heatmap\n",
    "plt.figure(figsize=(12, 6))\n",
    "sns.heatmap(heatmap_data, cmap='coolwarm', annot=True, fmt='d')\n",
    "plt.xlabel('Contributing Factor')\n",
    "plt.ylabel('Number of Fatal Accidents')\n",
    "plt.title('Correlation between Contributing Factors and Fatalities')\n",
    "plt.xticks(rotation=90)\n",
    "plt.show()\n"
   ]
  },
  {
   "cell_type": "markdown",
   "id": "bec259aa",
   "metadata": {},
   "source": [
    "It is apparent that fatal accidents are highly corelated to unsafe speeds, traffic control disregard and failure to yield the right of way. The Unknown factor is not very significant as it might have resulted from unrecorded or missing values."
   ]
  },
  {
   "cell_type": "code",
   "execution_count": 33,
   "id": "6908a848",
   "metadata": {},
   "outputs": [],
   "source": [
    "conn.close()"
   ]
  }
 ],
 "metadata": {
  "kernelspec": {
   "display_name": "Python 3 (ipykernel)",
   "language": "python",
   "name": "python3"
  },
  "language_info": {
   "codemirror_mode": {
    "name": "ipython",
    "version": 3
   },
   "file_extension": ".py",
   "mimetype": "text/x-python",
   "name": "python",
   "nbconvert_exporter": "python",
   "pygments_lexer": "ipython3",
   "version": "3.10.9"
  }
 },
 "nbformat": 4,
 "nbformat_minor": 5
}
